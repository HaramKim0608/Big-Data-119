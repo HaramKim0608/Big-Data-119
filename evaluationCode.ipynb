{
 "cells": [
  {
   "cell_type": "code",
   "execution_count": 9,
   "metadata": {
    "executionInfo": {
     "elapsed": 415,
     "status": "ok",
     "timestamp": 1731312482650,
     "user": {
      "displayName": "이진열",
      "userId": "09513916378754448964"
     },
     "user_tz": -540
    },
    "id": "fxynzj-zEq5S"
   },
   "outputs": [],
   "source": [
    "import tensorflow as tf\n",
    "from sklearn.metrics import confusion_matrix, classification_report, f1_score\n",
    "import numpy as np\n",
    "import scipy.io\n",
    "import os\n",
    "import matplotlib.pyplot as plt\n",
    "import seaborn as sns\n",
    "from tensorflow.keras.utils import to_categorical"
   ]
  },
  {
   "cell_type": "code",
   "execution_count": 10,
   "metadata": {
    "colab": {
     "base_uri": "https://localhost:8080/"
    },
    "executionInfo": {
     "elapsed": 27631,
     "status": "ok",
     "timestamp": 1731312510823,
     "user": {
      "displayName": "이진열",
      "userId": "09513916378754448964"
     },
     "user_tz": -540
    },
    "id": "9tgzuSekQ-eo",
    "outputId": "ab22e78b-ff6a-466a-b243-e8990f293751"
   },
   "outputs": [
    {
     "name": "stdout",
     "output_type": "stream",
     "text": [
      "W: Skipping acquire of configured file 'main/source/Sources' as repository 'https://r2u.stat.illinois.edu/ubuntu jammy InRelease' does not seem to provide it (sources.list entry misspelt?)\n",
      "Selecting previously unselected package fonts-nanum.\n",
      "(Reading database ... 123623 files and directories currently installed.)\n",
      "Preparing to unpack .../fonts-nanum_20200506-1_all.deb ...\n",
      "Unpacking fonts-nanum (20200506-1) ...\n",
      "Selecting previously unselected package fonts-nanum-coding.\n",
      "Preparing to unpack .../fonts-nanum-coding_2.5-3_all.deb ...\n",
      "Unpacking fonts-nanum-coding (2.5-3) ...\n",
      "Selecting previously unselected package fonts-nanum-eco.\n",
      "Preparing to unpack .../fonts-nanum-eco_1.000-7_all.deb ...\n",
      "Unpacking fonts-nanum-eco (1.000-7) ...\n",
      "Selecting previously unselected package fonts-nanum-extra.\n",
      "Preparing to unpack .../fonts-nanum-extra_20200506-1_all.deb ...\n",
      "Unpacking fonts-nanum-extra (20200506-1) ...\n",
      "Setting up fonts-nanum-extra (20200506-1) ...\n",
      "Setting up fonts-nanum (20200506-1) ...\n",
      "Setting up fonts-nanum-coding (2.5-3) ...\n",
      "Setting up fonts-nanum-eco (1.000-7) ...\n",
      "Processing triggers for fontconfig (2.13.1-4.2ubuntu5) ...\n"
     ]
    }
   ],
   "source": [
    "#  코랩 사용시 폰트 설정\n",
    "\n",
    "# %matplotlib inline\n",
    "\n",
    "# import matplotlib as mpl  # 기본 설정\n",
    "# import matplotlib.pyplot as plt  # 그래프 그리기\n",
    "# import matplotlib.font_manager as fm  # 폰트 관리\n",
    "\n",
    "\n",
    "# !apt-get update -qq         # apt-get 패키지 설치 명령어, -qq : 에러외 메세지 숨기기\n",
    "# !apt-get install fonts-nanum* -qq #나눔글꼴 설치\n",
    "\n",
    "# fe = fm.FontEntry(fname=r'/usr/share/fonts/truetype/nanum/NanumGothic.ttf', name='NanumGothic') #파일 저장되어있는 경로와 이름 설정\n",
    "# fm.fontManager.ttflist.insert(0, fe)  # Matplotlib에 폰트 추가\n",
    "# plt.rcParams.update({'font.size': 10, 'font.family': 'NanumGothic'}) #폰트설정"
   ]
  },
  {
   "cell_type": "code",
   "execution_count": 11,
   "metadata": {
    "colab": {
     "base_uri": "https://localhost:8080/"
    },
    "executionInfo": {
     "elapsed": 9,
     "status": "ok",
     "timestamp": 1731312510823,
     "user": {
      "displayName": "이진열",
      "userId": "09513916378754448964"
     },
     "user_tz": -540
    },
    "id": "WnJfLDkSErxy",
    "outputId": "abaa9f7e-6713-449d-ab22-6f7ae8789a13"
   },
   "outputs": [
    {
     "name": "stderr",
     "output_type": "stream",
     "text": [
      "/usr/local/lib/python3.10/dist-packages/keras/src/layers/convolutional/base_conv.py:107: UserWarning: Do not pass an `input_shape`/`input_dim` argument to a layer. When using Sequential models, prefer using an `Input(shape)` object as the first layer in the model instead.\n",
      "  super().__init__(activity_regularizer=activity_regularizer, **kwargs)\n"
     ]
    }
   ],
   "source": [
    "# 1. 저장된 모델 불러오기 (모델 .h5 파일 경로 입력)\n",
    "model = tf.keras.models.load_model('saveModel/bearing_fault_detection_model.h5', compile=False)\n",
    "\n",
    "# 모델 재컴파일\n",
    "model.compile(optimizer='adam', loss='categorical_crossentropy', metrics=['accuracy'])"
   ]
  },
  {
   "cell_type": "code",
   "execution_count": 12,
   "metadata": {
    "executionInfo": {
     "elapsed": 10223,
     "status": "ok",
     "timestamp": 1731312521039,
     "user": {
      "displayName": "이진열",
      "userId": "09513916378754448964"
     },
     "user_tz": -540
    },
    "id": "ZMvxkyZ51oQF"
   },
   "outputs": [],
   "source": [
    "# 2. 평가용 데이터 불러오기 및 전처리\n",
    "\n",
    "# 평가용 데이터 경로 설정 (예시 경로이므로 실제 경로로 수정 필요)\n",
    "test_base_paths = ['/bearing2']\n",
    "\n",
    "# 데이터 로드 및 전처리 함수 (훈련 시 사용한 함수와 동일하게)\n",
    "def load_data(base_paths):\n",
    "    classes = ['정상', '내륜결함', '외륜결함', '롤러결함']\n",
    "    data = []\n",
    "    labels = []\n",
    "    for base_path in base_paths:\n",
    "        for label, class_name in enumerate(classes):\n",
    "            folder_path = os.path.join(base_path, class_name)\n",
    "            if not os.path.exists(folder_path):\n",
    "                continue  # 폴더가 없으면 넘어감\n",
    "            for file_name in os.listdir(folder_path):\n",
    "                file_path = os.path.join(folder_path, file_name)\n",
    "                if not file_path.endswith('.mat'):\n",
    "                    continue  # .mat 파일이 아니면 넘어감\n",
    "                mat_data = scipy.io.loadmat(file_path)\n",
    "                signal = mat_data['signal'].flatten()  # 1차원 배열로 변환\n",
    "\n",
    "                # 신호를 세그먼트로 분할 (각 세그먼트 길이: 1024 샘플)\n",
    "                segment_length = 1024\n",
    "                num_segments = len(signal) // segment_length\n",
    "                for i in range(num_segments):\n",
    "                    segment = signal[i * segment_length : (i + 1) * segment_length]\n",
    "                    data.append(segment)\n",
    "                    labels.append(label)\n",
    "\n",
    "    # Numpy 배열로 변환\n",
    "    data = np.array(data)\n",
    "    labels = np.array(labels)\n",
    "    return data, labels\n",
    "\n",
    "# 테스트 데이터 로드\n",
    "X_test, y_test = load_data(test_base_paths)\n",
    "\n",
    "# 데이터 정규화 (훈련 데이터 전처리와 동일하게)\n",
    "X_test = X_test / np.max(np.abs(X_test))\n",
    "\n",
    "# 레이블 원-핫 인코딩\n",
    "y_test = to_categorical(y_test, num_classes=4)\n",
    "\n",
    "# 입력 데이터 형태 변경 (모델 입력에 맞게 reshaping)\n",
    "X_test = X_test.reshape(-1, 1024, 1)"
   ]
  },
  {
   "cell_type": "code",
   "execution_count": 13,
   "metadata": {
    "colab": {
     "base_uri": "https://localhost:8080/"
    },
    "executionInfo": {
     "elapsed": 9735,
     "status": "ok",
     "timestamp": 1731312530770,
     "user": {
      "displayName": "이진열",
      "userId": "09513916378754448964"
     },
     "user_tz": -540
    },
    "id": "VptUXycH1oSi",
    "outputId": "3203f38a-19d8-483d-a39e-186853b58627"
   },
   "outputs": [
    {
     "name": "stdout",
     "output_type": "stream",
     "text": [
      "968/968 - 9s - 10ms/step - accuracy: 0.9354 - loss: 0.5673\n",
      "Test Loss: 0.5673\n",
      "Test Accuracy: 0.9354\n"
     ]
    }
   ],
   "source": [
    "# 3. 모델 평가 (손실 및 정확도)\n",
    "test_loss, test_accuracy = model.evaluate(X_test, y_test, verbose=2)\n",
    "print(f\"Test Loss: {test_loss:.4f}\")\n",
    "print(f\"Test Accuracy: {test_accuracy:.4f}\")"
   ]
  },
  {
   "cell_type": "code",
   "execution_count": 14,
   "metadata": {
    "colab": {
     "base_uri": "https://localhost:8080/"
    },
    "executionInfo": {
     "elapsed": 20865,
     "status": "ok",
     "timestamp": 1731312551630,
     "user": {
      "displayName": "이진열",
      "userId": "09513916378754448964"
     },
     "user_tz": -540
    },
    "id": "4taIkwoH1wfb",
    "outputId": "08da7d7f-c5f8-4bc6-d6fb-418cc197aef9"
   },
   "outputs": [
    {
     "name": "stdout",
     "output_type": "stream",
     "text": [
      "\u001b[1m968/968\u001b[0m \u001b[32m━━━━━━━━━━━━━━━━━━━━\u001b[0m\u001b[37m\u001b[0m \u001b[1m12s\u001b[0m 12ms/step\n"
     ]
    }
   ],
   "source": [
    "# 4. 예측 및 성능 평가\n",
    "y_pred = model.predict(X_test)\n",
    "y_pred_classes = np.argmax(y_pred, axis=1)  # 예측한 클래스\n",
    "y_true = np.argmax(y_test, axis=1)          # 실제 클래스"
   ]
  },
  {
   "cell_type": "code",
   "execution_count": 15,
   "metadata": {
    "colab": {
     "base_uri": "https://localhost:8080/",
     "height": 561
    },
    "executionInfo": {
     "elapsed": 22,
     "status": "ok",
     "timestamp": 1731312551630,
     "user": {
      "displayName": "이진열",
      "userId": "09513916378754448964"
     },
     "user_tz": -540
    },
    "id": "qB468ZCL1wia",
    "outputId": "2f0b568b-daf4-4d13-a509-3a356f0ca38f"
   },
   "outputs": [
    {
     "data": {
      "image/png": "[encoded data removed]",
      "text/plain": [
       "<Figure size 800x600 with 2 Axes>"
      ]
     },
     "metadata": {},
     "output_type": "display_data"
    }
   ],
   "source": [
    "# 혼동 행렬 계산 및 시각화\n",
    "conf_matrix = confusion_matrix(y_true, y_pred_classes)\n",
    "\n",
    "plt.figure(figsize=(8, 6))\n",
    "sns.heatmap(conf_matrix, annot=True, fmt=\"d\", cmap=\"Blues\",\n",
    "            xticklabels=['정상', '내륜결함', '외륜결함', '롤러결함'],\n",
    "            yticklabels=['정상', '내륜결함', '외륜결함', '롤러결함'])\n",
    "plt.xlabel(\"Predicted Labels\")\n",
    "plt.ylabel(\"True Labels\")\n",
    "plt.title(\"Confusion Matrix\")\n",
    "plt.show()"
   ]
  },
  {
   "cell_type": "code",
   "execution_count": 16,
   "metadata": {
    "colab": {
     "base_uri": "https://localhost:8080/"
    },
    "executionInfo": {
     "elapsed": 17,
     "status": "ok",
     "timestamp": 1731312551630,
     "user": {
      "displayName": "이진열",
      "userId": "09513916378754448964"
     },
     "user_tz": -540
    },
    "id": "F49tMan61wlC",
    "outputId": "df3d5ad2-be3f-4017-f2bb-c8aa2bc147e8"
   },
   "outputs": [
    {
     "name": "stdout",
     "output_type": "stream",
     "text": [
      "              precision    recall  f1-score   support\n",
      "\n",
      "          정상       1.00      0.99      0.99      7725\n",
      "        내륜결함       0.95      1.00      0.98      7750\n",
      "        외륜결함       0.98      0.82      0.89      7725\n",
      "        롤러결함       0.83      0.94      0.88      7775\n",
      "\n",
      "    accuracy                           0.94     30975\n",
      "   macro avg       0.94      0.94      0.94     30975\n",
      "weighted avg       0.94      0.94      0.94     30975\n",
      "\n"
     ]
    }
   ],
   "source": [
    "# 분류 보고서 출력\n",
    "print(classification_report(y_true, y_pred_classes, target_names=['정상', '내륜결함', '외륜결함', '롤러결함']))"
   ]
  },
  {
   "cell_type": "code",
   "execution_count": 17,
   "metadata": {
    "colab": {
     "base_uri": "https://localhost:8080/"
    },
    "executionInfo": {
     "elapsed": 15,
     "status": "ok",
     "timestamp": 1731312551630,
     "user": {
      "displayName": "이진열",
      "userId": "09513916378754448964"
     },
     "user_tz": -540
    },
    "id": "QR6sL4Kn1oVD",
    "outputId": "b2e7755f-1ec1-416d-e78e-88211768d791"
   },
   "outputs": [
    {
     "name": "stdout",
     "output_type": "stream",
     "text": [
      "Macro F1 Score: 0.9354\n",
      "Weighted F1 Score: 0.9353\n"
     ]
    }
   ],
   "source": [
    "# F1 스코어 계산 및 출력\n",
    "f1_macro = f1_score(y_true, y_pred_classes, average='macro')\n",
    "f1_weighted = f1_score(y_true, y_pred_classes, average='weighted')\n",
    "print(f\"Macro F1 Score: {f1_macro:.4f}\")\n",
    "print(f\"Weighted F1 Score: {f1_weighted:.4f}\")"
   ]
  }
 ],
 "metadata": {
  "colab": {
   "authorship_tag": "ABX9TyMNT+a+IHZGjGd4ql6ycHS4",
   "mount_file_id": "1q5bFSN05tusgLqwWbRW-qM4TsNUGf5wH",
   "provenance": []
  },
  "kernelspec": {
   "display_name": "Python 3 (ipykernel)",
   "language": "python",
   "name": "python3"
  },
  "language_info": {
   "codemirror_mode": {
    "name": "ipython",
    "version": 3
   },
   "file_extension": ".py",
   "mimetype": "text/x-python",
   "name": "python",
   "nbconvert_exporter": "python",
   "pygments_lexer": "ipython3",
   "version": "3.11.7"
  }
 },
 "nbformat": 4,
 "nbformat_minor": 4
}
